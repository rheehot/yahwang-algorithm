{
 "cells": [
  {
   "cell_type": "markdown",
   "metadata": {},
   "source": [
    "[문제링크 by Programmers](https://programmers.co.kr/learn/courses/30/lessons/42578)\n"
   ]
  },
  {
   "cell_type": "markdown",
   "metadata": {},
   "source": [
    "#### 조합을 구하여 계산한 풀이 (테스트 1번 실패)"
   ]
  },
  {
   "cell_type": "code",
   "execution_count": 1,
   "metadata": {},
   "outputs": [],
   "source": [
    "from itertools import combinations\n",
    "\n",
    "def solution(clothes):\n",
    "    answer=0\n",
    "    items={}\n",
    "    for item in clothes:\n",
    "        items[item[1]]=items.get(item[1],0)+1\n",
    "        \n",
    "    answer+=sum(items.values()) # 1개 카테고리인 경우\n",
    "        \n",
    "    for cnt in range(2,len(items)+1):\n",
    "        cases = combinations(items.keys(), cnt)\n",
    "        for case in cases:\n",
    "            res = 1\n",
    "            for i in case:\n",
    "                res*=items[i]\n",
    "            answer+=res\n",
    "    return answer"
   ]
  },
  {
   "cell_type": "markdown",
   "metadata": {},
   "source": [
    "#### 순열을 활용하여 수학으로 계산한 정답\n",
    "\n",
    "참고 : https://programmers.co.kr/learn/questions/3685"
   ]
  },
  {
   "cell_type": "code",
   "execution_count": null,
   "metadata": {},
   "outputs": [],
   "source": [
    "from itertools import combinations\n",
    "\n",
    "def solution(clothes):\n",
    "    answer=1\n",
    "    items={}\n",
    "    for item in clothes:\n",
    "        items[item[1]]=items.get(item[1],0)+1\n",
    "        \n",
    "    for i in items.values():\n",
    "        answer*=i+1\n",
    "        \n",
    "    return answer-1"
   ]
  }
 ],
 "metadata": {
  "kernelspec": {
   "display_name": "Python 3",
   "language": "python",
   "name": "python3"
  },
  "language_info": {
   "codemirror_mode": {
    "name": "ipython",
    "version": 3
   },
   "file_extension": ".py",
   "mimetype": "text/x-python",
   "name": "python",
   "nbconvert_exporter": "python",
   "pygments_lexer": "ipython3",
   "version": "3.6.7"
  }
 },
 "nbformat": 4,
 "nbformat_minor": 4
}
