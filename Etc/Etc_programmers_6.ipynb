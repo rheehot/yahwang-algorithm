{
 "cells": [
  {
   "cell_type": "markdown",
   "metadata": {},
   "source": [
    "[문제링크 by Programmers](https://programmers.co.kr/learn/courses/30/lessons/12985)\n"
   ]
  },
  {
   "cell_type": "raw",
   "metadata": {},
   "source": [
    "1    2    3(4)  4    5    6    7(8)  8\n",
    "\n",
    "   1(2)      2         3(4)      4\n",
    "   \n",
    "        1(2)                 2\n",
    "        \n",
    "                  1"
   ]
  },
  {
   "cell_type": "markdown",
   "metadata": {},
   "source": [
    "짝수로 만들어 /2씩 다음 라운드로 이동\n",
    "\n",
    "홀수를 짝수로 만들어 A, B가 같다면 현재 같은 라운드에서 만난다는 의미"
   ]
  },
  {
   "cell_type": "code",
   "execution_count": 1,
   "metadata": {},
   "outputs": [],
   "source": [
    "def fight(a,b,round):\n",
    "    if a%2!=0:\n",
    "        a+=1\n",
    "    if b%2!=0:\n",
    "        b+=1\n",
    "    if a==b:\n",
    "        return round+1\n",
    "    else:\n",
    "        return fight(a//2, b//2, round+1)\n",
    "    \n",
    "def solution(n,a,b):\n",
    "    answer = 0\n",
    "    answer = fight(a,b,answer)\n",
    "    return answer"
   ]
  }
 ],
 "metadata": {
  "kernelspec": {
   "display_name": "Python 3",
   "language": "python",
   "name": "python3"
  },
  "language_info": {
   "codemirror_mode": {
    "name": "ipython",
    "version": 3
   },
   "file_extension": ".py",
   "mimetype": "text/x-python",
   "name": "python",
   "nbconvert_exporter": "python",
   "pygments_lexer": "ipython3",
   "version": "3.6.7"
  }
 },
 "nbformat": 4,
 "nbformat_minor": 4
}
