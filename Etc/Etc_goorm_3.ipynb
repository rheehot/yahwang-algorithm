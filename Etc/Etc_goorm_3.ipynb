{
 "cells": [
  {
   "cell_type": "markdown",
   "metadata": {},
   "source": [
    "[문제링크 by Goorm](https://edu.goorm.io/learn/lecture/11220/%EB%A7%A4%EC%A3%BC-%EB%B0%B0%EC%86%A1%EB%B0%9B%EB%8A%94-%EC%95%8C%EA%B3%A0%EB%A6%AC%EC%A6%98-%EB%AC%B8%EC%A0%9C-%EC%9C%84%ED%81%B4%EB%A6%AC-%EB%B9%84%ED%83%80%EC%95%8C%EA%B3%A0/lesson/537549/04%EC%9B%94-2%EC%A3%BC%EC%B0%A8-%EB%91%90%EB%B2%88%EC%A7%B8-%EB%AC%B8%EC%A0%9C-%EB%91%90%EB%A3%A8%EB%A7%88%EB%A6%AC-%ED%9C%B4%EC%A7%80-%EA%B3%B5%EC%9E%A5)\n",
    "\n",
    "[문제해설 C++ 코드](https://edu.goorm.io/learn/lecture/11220/%EB%A7%A4%EC%A3%BC-%EB%B0%B0%EC%86%A1%EB%B0%9B%EB%8A%94-%EC%95%8C%EA%B3%A0%EB%A6%AC%EC%A6%98-%EB%AC%B8%EC%A0%9C-%EC%9C%84%ED%81%B4%EB%A6%AC-%EB%B9%84%ED%83%80%EC%95%8C%EA%B3%A0/lesson/537550/04%EC%9B%94-2%EC%A3%BC%EC%B0%A8-%EB%91%90%EB%B2%88%EC%A7%B8-%ED%95%B4%EC%84%A4) 해설은 binary search 코드로 만들었음"
   ]
  },
  {
   "cell_type": "markdown",
   "metadata": {},
   "source": [
    "간단히 수학적으로 생각하면 되는 문제"
   ]
  },
  {
   "cell_type": "code",
   "execution_count": null,
   "metadata": {},
   "outputs": [],
   "source": [
    "tissue_cnt,remains  = list(map(int,input().split()))\n",
    "tissues = list(map(int,input().split()))\n",
    "\n",
    "max_len = max(tissues)\n",
    "min_needs = sum(map(lambda x: max_len-x, tissues))\n",
    "\n",
    "if min_needs > remains: # 최소한의 동일한 길이를 맞출 수 있는 지\n",
    "\tprint(\"No way!\")\n",
    "\texit()\n",
    "\n",
    "remains -= min_needs\n",
    "max_len += remains // len(tissues)\n",
    "print(max_len)"
   ]
  }
 ],
 "metadata": {
  "kernelspec": {
   "display_name": "Python 3",
   "language": "python",
   "name": "python3"
  },
  "language_info": {
   "codemirror_mode": {
    "name": "ipython",
    "version": 3
   },
   "file_extension": ".py",
   "mimetype": "text/x-python",
   "name": "python",
   "nbconvert_exporter": "python",
   "pygments_lexer": "ipython3",
   "version": "3.6.7"
  }
 },
 "nbformat": 4,
 "nbformat_minor": 4
}
