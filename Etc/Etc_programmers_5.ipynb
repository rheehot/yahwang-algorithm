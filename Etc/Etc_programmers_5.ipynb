{
 "cells": [
  {
   "cell_type": "markdown",
   "metadata": {},
   "source": [
    "[문제링크 by Programmers](https://programmers.co.kr/learn/courses/30/lessons/42579)\n"
   ]
  },
  {
   "cell_type": "code",
   "execution_count": 1,
   "metadata": {},
   "outputs": [],
   "source": [
    "# records : genre마다 노래번호, play수를 저장\n",
    "# play_sum : genre마다 총 play수를 저장\n",
    "\n",
    "def solution(genres, plays):\n",
    "    answer=[]\n",
    "    records={}\n",
    "    play_sum={}\n",
    "    \n",
    "    for idx,(genre, play) in enumerate(zip(genres, plays)):\n",
    "        play_sum[genre]=play_sum.get(genre,0)+play\n",
    "        records[genre]=records.get(genre,[])\n",
    "        records[genre].append([idx,play])\n",
    "        \n",
    "    play_sum = list(play_sum.items())\n",
    "    play_sum.sort(key=lambda x:x[1], reverse=True)\n",
    "    \n",
    "    # [:2]를 활용하면 최대 2개를 선택할 수 있다.\n",
    "    for genre,_ in play_sum:\n",
    "        res = sorted(records[genre], key=lambda x:x[1], reverse=True)[:2]\n",
    "        answer.extend([ i[0] for i in res])\n",
    "    return answer"
   ]
  }
 ],
 "metadata": {
  "kernelspec": {
   "display_name": "Python 3",
   "language": "python",
   "name": "python3"
  },
  "language_info": {
   "codemirror_mode": {
    "name": "ipython",
    "version": 3
   },
   "file_extension": ".py",
   "mimetype": "text/x-python",
   "name": "python",
   "nbconvert_exporter": "python",
   "pygments_lexer": "ipython3",
   "version": "3.6.7"
  }
 },
 "nbformat": 4,
 "nbformat_minor": 4
}
