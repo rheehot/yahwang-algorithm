{
 "cells": [
  {
   "cell_type": "markdown",
   "metadata": {},
   "source": [
    "[문제링크 by Goorm](https://edu.goorm.io/learn/lecture/11220/%EB%A7%A4%EC%A3%BC-%EB%B0%B0%EC%86%A1%EB%B0%9B%EB%8A%94-%EC%95%8C%EA%B3%A0%EB%A6%AC%EC%A6%98-%EB%AC%B8%EC%A0%9C-%EC%9C%84%ED%81%B4%EB%A6%AC-%EB%B9%84%ED%83%80%EC%95%8C%EA%B3%A0/lesson/466244/04%EC%9B%94-4%EC%A3%BC%EC%B0%A8-%EC%84%B8%EB%B2%88%EC%A7%B8-%EB%AC%B8%EC%A0%9C-%EC%A0%9C%EC%84%A4%EC%9E%91%EC%A0%84)\n",
    "\n",
    "[문제해설 C++ 코드](https://edu.goorm.io/learn/lecture/11220/%EB%A7%A4%EC%A3%BC-%EB%B0%B0%EC%86%A1%EB%B0%9B%EB%8A%94-%EC%95%8C%EA%B3%A0%EB%A6%AC%EC%A6%98-%EB%AC%B8%EC%A0%9C-%EC%9C%84%ED%81%B4%EB%A6%AC-%EB%B9%84%ED%83%80%EC%95%8C%EA%B3%A0/lesson/466415/04%EC%9B%94-4%EC%A3%BC%EC%B0%A8-%EC%84%B8%EB%B2%88%EC%A7%B8-%ED%95%B4%EC%84%A4)"
   ]
  },
  {
   "cell_type": "markdown",
   "metadata": {},
   "source": [
    "부분합을 활용하는 예제 "
   ]
  },
  {
   "cell_type": "markdown",
   "metadata": {},
   "source": [
    "### 코드 (테스트 2개 실패)"
   ]
  },
  {
   "cell_type": "markdown",
   "metadata": {},
   "source": [
    "passed: 구간 안에 돌이 포함되어 있는 지 여부"
   ]
  },
  {
   "cell_type": "code",
   "execution_count": null,
   "metadata": {},
   "outputs": [],
   "source": [
    "road_len = input()\n",
    "road= list(map(int, input().split()))\n",
    "shovel_num = input()\n",
    "shovels = list(map(int, input().split()))\n",
    "rock_num = int(input())\n",
    "rocks = list(map(int, input().split()))\n",
    "\n",
    "snow_sum = [0]\n",
    "for idx,snow in enumerate(road):\n",
    "\tsnow_sum.append(snow_sum[idx]+snow)\n",
    "\n",
    "res = []\t\n",
    "\n",
    "for shovel in shovels:\n",
    "\tmax_val = 0\n",
    "\tpassed = False\n",
    "\tfor start in range(1,len(road)+2-shovel):\n",
    "\t\tfor rock in rocks:\n",
    "\t\t\tif start <= rock and rock <= start+shovel-1:\n",
    "\t\t\t\tpassed=True\n",
    "\t\t\t\tpass\n",
    "\t\tif passed:\n",
    "\t\t\tpassed=False\n",
    "\t\t\tcontinue\n",
    "\t\telse:\n",
    "\t\t\tmax_val=max(max_val, snow_sum[start+shovel-1]-snow_sum[start-1])\n",
    "\tres.append((shovel,max_val))\n",
    "\n",
    "res.sort(key=lambda x:(-x[1],x[0]))\n",
    "\n",
    "print(res[0][0], res[0][1])"
   ]
  }
 ],
 "metadata": {
  "kernelspec": {
   "display_name": "Python 3",
   "language": "python",
   "name": "python3"
  },
  "language_info": {
   "codemirror_mode": {
    "name": "ipython",
    "version": 3
   },
   "file_extension": ".py",
   "mimetype": "text/x-python",
   "name": "python",
   "nbconvert_exporter": "python",
   "pygments_lexer": "ipython3",
   "version": "3.6.7"
  }
 },
 "nbformat": 4,
 "nbformat_minor": 4
}
