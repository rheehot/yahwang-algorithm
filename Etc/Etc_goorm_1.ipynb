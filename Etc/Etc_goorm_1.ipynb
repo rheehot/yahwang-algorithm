{
 "cells": [
  {
   "cell_type": "markdown",
   "metadata": {},
   "source": [
    "[문제링크 by Goorm](https://edu.goorm.io/learn/lecture/11220/%EB%A7%A4%EC%A3%BC-%EB%B0%B0%EC%86%A1%EB%B0%9B%EB%8A%94-%EC%95%8C%EA%B3%A0%EB%A6%AC%EC%A6%98-%EB%AC%B8%EC%A0%9C-%EC%9C%84%ED%81%B4%EB%A6%AC-%EB%B9%84%ED%83%80%EC%95%8C%EA%B3%A0/lesson/490630/03%EC%9B%94-3%EC%A3%BC%EC%B0%A8-%EC%B2%AB%EB%B2%88%EC%A7%B8-%EB%AC%B8%EC%A0%9C-%EC%99%B8%EA%B3%84%EC%9D%B8%EA%B3%BC-%EC%9A%A9%EB%8F%88-%EA%B8%B0%EC%9E%85%EC%9E%A5)\n",
    "\n",
    "[문제해설 C++ 코드](https://edu.goorm.io/learn/lecture/11220/%EB%A7%A4%EC%A3%BC-%EB%B0%B0%EC%86%A1%EB%B0%9B%EB%8A%94-%EC%95%8C%EA%B3%A0%EB%A6%AC%EC%A6%98-%EB%AC%B8%EC%A0%9C-%EC%9C%84%ED%81%B4%EB%A6%AC-%EB%B9%84%ED%83%80%EC%95%8C%EA%B3%A0/lesson/490631/03%EC%9B%94-3%EC%A3%BC%EC%B0%A8-%EC%B2%AB%EB%B2%88%EC%A7%B8-%ED%95%B4%EC%84%A4)"
   ]
  },
  {
   "cell_type": "markdown",
   "metadata": {},
   "source": [
    "부분합을 활용하는 예제 \n",
    "\n",
    "SUM[index] : index까지 총합\n",
    "\n",
    "미리 SUM[index]를 계산 후 요청에 따라 다시 계산\n",
    "\n",
    "index 3부터 index 5까지의 합은 SUM[5] - SUM[2]"
   ]
  },
  {
   "cell_type": "markdown",
   "metadata": {},
   "source": [
    "### 코드"
   ]
  },
  {
   "cell_type": "code",
   "execution_count": null,
   "metadata": {},
   "outputs": [],
   "source": [
    "_, num  = map(int, input().split())\n",
    "data = []\n",
    "for pay in input().split():\n",
    "\tdata.append( int(pay[1:]) if '+' in pay else -int(pay[1:]))\t\n",
    "\t\n",
    "reqs= []\n",
    "for i in range(num):\n",
    "\treqs.append(list(map(int, input().split())))\n",
    "\n",
    "sums=[0]*(len(data)+1)\n",
    "for idx, val in enumerate(data):\n",
    "\tsums[idx+1]=sums[idx]+val\n",
    "\n",
    "for req in reqs:\n",
    "\tres = sums[req[1]]-sums[req[0]-1]\n",
    "\tprint('+'+str(res) if res>0 else str(res))"
   ]
  }
 ],
 "metadata": {
  "kernelspec": {
   "display_name": "Python 3",
   "language": "python",
   "name": "python3"
  },
  "language_info": {
   "codemirror_mode": {
    "name": "ipython",
    "version": 3
   },
   "file_extension": ".py",
   "mimetype": "text/x-python",
   "name": "python",
   "nbconvert_exporter": "python",
   "pygments_lexer": "ipython3",
   "version": "3.6.7"
  }
 },
 "nbformat": 4,
 "nbformat_minor": 4
}
