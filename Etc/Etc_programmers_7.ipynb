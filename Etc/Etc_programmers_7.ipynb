{
 "cells": [
  {
   "cell_type": "markdown",
   "metadata": {},
   "source": [
    "[문제링크 by Programmers](https://programmers.co.kr/learn/courses/30/lessons/12979)\n"
   ]
  },
  {
   "cell_type": "markdown",
   "metadata": {},
   "source": [
    "stations = [4, 11]  W = 1"
   ]
  },
  {
   "cell_type": "markdown",
   "metadata": {},
   "source": [
    "![](https://res.cloudinary.com/jistring93/image/upload/v1492073407/%EA%B8%B0%EC%A7%80%EA%B5%AD%EC%84%A4%EC%B9%981_pvskxt.png)"
   ]
  },
  {
   "cell_type": "markdown",
   "metadata": {},
   "source": [
    "2*w+1 = 기지국 최대 영향 범위\n",
    "\n",
    "빈 공간마다 최대 영향 범위로 나눈 값을 합해 최소값을 계산\n",
    "\n",
    "마지막 station까지 접근을 위해 stations에 마지막 station을 추가\n",
    "\n",
    "단, 계산식을 적용하기 위해 n+w+1을 사용"
   ]
  },
  {
   "cell_type": "code",
   "execution_count": 1,
   "metadata": {},
   "outputs": [],
   "source": [
    "def solution(n, stations, w):\n",
    "    answer = 0\n",
    "\n",
    "    if stations[-1] < n:\n",
    "        stations.append(n+w+1) # 마지막 station을 추가\n",
    "    apt_idx=0\n",
    "    sta_idx=0\n",
    "    while ran_idx <= len(stations)-1:\n",
    "        space = stations[sta_idx]-w-apt_idx-1\n",
    "        if space%(2*w+1) ==0:\n",
    "            answer+=space//(2*w+1)\n",
    "        else:\n",
    "            answer+=(space//(2*w+1)+1)\n",
    "        apt_idx=stations[sta_idx]+w\n",
    "        ran_idx+=1\n",
    "        \n",
    "    return answer"
   ]
  }
 ],
 "metadata": {
  "kernelspec": {
   "display_name": "Python 3",
   "language": "python",
   "name": "python3"
  },
  "language_info": {
   "codemirror_mode": {
    "name": "ipython",
    "version": 3
   },
   "file_extension": ".py",
   "mimetype": "text/x-python",
   "name": "python",
   "nbconvert_exporter": "python",
   "pygments_lexer": "ipython3",
   "version": "3.6.7"
  }
 },
 "nbformat": 4,
 "nbformat_minor": 4
}
