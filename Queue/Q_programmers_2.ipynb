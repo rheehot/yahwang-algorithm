{
 "cells": [
  {
   "cell_type": "markdown",
   "metadata": {},
   "source": [
    "[문제링크 by Programmers](https://programmers.co.kr/learn/courses/30/lessons/42583)\n"
   ]
  },
  {
   "cell_type": "markdown",
   "metadata": {},
   "source": [
    "핵심 : queue에서 트럭의 움직임을 표시하기 위해 0인 값을 넣는다."
   ]
  },
  {
   "cell_type": "markdown",
   "metadata": {},
   "source": [
    "check_passed: 트럭이 다리를 완전히 지나면 하나씩 사라짐"
   ]
  },
  {
   "cell_type": "code",
   "execution_count": 1,
   "metadata": {},
   "outputs": [],
   "source": [
    "from collections import deque\n",
    "\n",
    "def solution(bridge_length, weight, truck_weights):\n",
    "    answer = 0\n",
    "    q = deque([0]*bridge_length,maxlen=bridge_length) # queue에 다리길이만큼 0을 미리 넣어둔다.\n",
    "    q_weight=0\n",
    "    truck_weights.reverse()\n",
    "    check_passed = len(truck_weights)\n",
    "    \n",
    "    while check_passed!=0:\n",
    "        passed = q.pop()\n",
    "        \n",
    "        if passed !=0: # 트럭이 다리를 통과한 경우\n",
    "            check_passed-=1\n",
    "            q_weight -= passed\n",
    "            \n",
    "        if len(truck_weights)!=0 and q_weight+truck_weights[-1] <= weight: # 트럭이 다리에 처음 올라가는 경우\n",
    "            on_bridge = truck_weights.pop()\n",
    "            q.appendleft(on_bridge)\n",
    "            q_weight += on_bridge\n",
    "        else:\n",
    "            q.appendleft(0) # 트럭이 다리에 못 올라가고 시간이 지나는 경우\n",
    "            \n",
    "        answer+=1\n",
    "        print(q)\n",
    "    \n",
    "    return answer"
   ]
  },
  {
   "cell_type": "code",
   "execution_count": 2,
   "metadata": {},
   "outputs": [
    {
     "name": "stdout",
     "output_type": "stream",
     "text": [
      "deque([7, 0], maxlen=2)\n",
      "deque([0, 7], maxlen=2)\n",
      "deque([4, 0], maxlen=2)\n",
      "deque([5, 4], maxlen=2)\n",
      "deque([0, 5], maxlen=2)\n",
      "deque([6, 0], maxlen=2)\n",
      "deque([0, 6], maxlen=2)\n",
      "deque([0, 0], maxlen=2)\n"
     ]
    },
    {
     "data": {
      "text/plain": [
       "8"
      ]
     },
     "execution_count": 2,
     "metadata": {},
     "output_type": "execute_result"
    }
   ],
   "source": [
    "solution(2,10,[7,4,5,6])"
   ]
  }
 ],
 "metadata": {
  "kernelspec": {
   "display_name": "Python 3",
   "language": "python",
   "name": "python3"
  },
  "language_info": {
   "codemirror_mode": {
    "name": "ipython",
    "version": 3
   },
   "file_extension": ".py",
   "mimetype": "text/x-python",
   "name": "python",
   "nbconvert_exporter": "python",
   "pygments_lexer": "ipython3",
   "version": "3.6.7"
  }
 },
 "nbformat": 4,
 "nbformat_minor": 4
}
