{
 "cells": [
  {
   "cell_type": "markdown",
   "metadata": {},
   "source": [
    "[문제링크 by Programmers](https://programmers.co.kr/learn/courses/30/lessons/42587)\n"
   ]
  },
  {
   "cell_type": "markdown",
   "metadata": {},
   "source": [
    "각 문서에 아스키코드를 활용해 알파벳 문자를 대입시켜서\n",
    "\n",
    "두 개의 Queue를 활용한다."
   ]
  },
  {
   "cell_type": "code",
   "execution_count": null,
   "metadata": {},
   "outputs": [],
   "source": [
    "from collections import deque\n",
    "\n",
    "def solution(priorities, location):\n",
    "    answer = 0\n",
    "    q = deque()\n",
    "    for idx,i in enumerate(priorities):\n",
    "        if idx == location:\n",
    "            target = chr(65+idx) # target 문서 이름 확인\n",
    "        q.appendleft(chr(65+idx))\n",
    "    priorities.reverse() # list를 queue처럼 변형\n",
    "\n",
    "    while len(q)!=0:\n",
    "        doc = q[-1]\n",
    "        priority = priorities[-1]\n",
    "        if priority < max(priorities):\n",
    "            q.appendleft(q.pop())\n",
    "            priorities.insert(0,priorities.pop())\n",
    "        else:\n",
    "            q.pop()\n",
    "            priorities.pop()\n",
    "            answer+=1\n",
    "            if doc == target:\n",
    "                break\n",
    "    return answer"
   ]
  }
 ],
 "metadata": {
  "kernelspec": {
   "display_name": "Python 3",
   "language": "python",
   "name": "python3"
  },
  "language_info": {
   "codemirror_mode": {
    "name": "ipython",
    "version": 3
   },
   "file_extension": ".py",
   "mimetype": "text/x-python",
   "name": "python",
   "nbconvert_exporter": "python",
   "pygments_lexer": "ipython3",
   "version": "3.6.7"
  }
 },
 "nbformat": 4,
 "nbformat_minor": 4
}
