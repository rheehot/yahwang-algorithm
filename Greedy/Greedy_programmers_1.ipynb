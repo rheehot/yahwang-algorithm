{
 "cells": [
  {
   "cell_type": "markdown",
   "metadata": {},
   "source": [
    "[문제링크 by Programmers](https://programmers.co.kr/learn/courses/30/lessons/42862)\n"
   ]
  },
  {
   "cell_type": "markdown",
   "metadata": {},
   "source": [
    "맨 처음 index와 마지막 index 처리만 주의하면 된다."
   ]
  },
  {
   "cell_type": "code",
   "execution_count": null,
   "metadata": {},
   "outputs": [],
   "source": [
    "def solution(n, lost, reserve):\n",
    "    answer = 0\n",
    "    students=[0] # trick\n",
    "    students+=[1]*n\n",
    "\n",
    "    for i in lost:\n",
    "        students[i]-=1\n",
    "    \n",
    "    for j in reserve:\n",
    "        students[j]+=1\n",
    "\n",
    "    for idx, student in enumerate(students[1:], start=1):\n",
    "        if student > 0:\n",
    "            pass\n",
    "        else:\n",
    "            if students[idx-1] > 1:\n",
    "                pass\n",
    "            elif idx!=len(students)-1 and students[idx+1] > 1:\n",
    "                students[idx+1]-=1\n",
    "            else:\n",
    "                continue\n",
    "        answer+=1\n",
    "    return answer"
   ]
  }
 ],
 "metadata": {
  "kernelspec": {
   "display_name": "Python 3",
   "language": "python",
   "name": "python3"
  },
  "language_info": {
   "codemirror_mode": {
    "name": "ipython",
    "version": 3
   },
   "file_extension": ".py",
   "mimetype": "text/x-python",
   "name": "python",
   "nbconvert_exporter": "python",
   "pygments_lexer": "ipython3",
   "version": "3.6.7"
  }
 },
 "nbformat": 4,
 "nbformat_minor": 4
}
