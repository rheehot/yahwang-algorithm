{
 "cells": [
  {
   "cell_type": "markdown",
   "metadata": {},
   "source": [
    "[문제링크 by Programmers](https://programmers.co.kr/learn/courses/30/lessons/12973#)\n"
   ]
  },
  {
   "cell_type": "code",
   "execution_count": 5,
   "metadata": {},
   "outputs": [],
   "source": [
    "from collections import deque\n",
    "\n",
    "def find_pair(word):\n",
    "    res = 0\n",
    "    stack = deque()\n",
    "    for char in word:\n",
    "        if len(stack)==0 or stack[-1]!=char:\n",
    "            stack.append(char)\n",
    "        else:\n",
    "            stack.pop()\n",
    "    if len(stack)==0:\n",
    "        res+=1\n",
    "    return res\n",
    "    \n",
    "def solution(s):\n",
    "    answer = 0\n",
    "    if len(s)%2 ==1: # 홀수 개수는 무조건 0\n",
    "        return answer\n",
    "    answer = find_pair(s)\n",
    "    return answer"
   ]
  }
 ],
 "metadata": {
  "kernelspec": {
   "display_name": "Python 3",
   "language": "python",
   "name": "python3"
  },
  "language_info": {
   "codemirror_mode": {
    "name": "ipython",
    "version": 3
   },
   "file_extension": ".py",
   "mimetype": "text/x-python",
   "name": "python",
   "nbconvert_exporter": "python",
   "pygments_lexer": "ipython3",
   "version": "3.6.7"
  }
 },
 "nbformat": 4,
 "nbformat_minor": 4
}
