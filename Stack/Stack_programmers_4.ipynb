{
 "cells": [
  {
   "cell_type": "markdown",
   "metadata": {},
   "source": [
    "[문제링크 by Programmers](https://programmers.co.kr/learn/courses/30/lessons/42584)\n"
   ]
  },
  {
   "cell_type": "markdown",
   "metadata": {},
   "source": [
    "#### Stack_programmers_3 번 풀이와 비슷한 방법\n",
    "\n",
    "stack의 input : (index, price, cnt)\n",
    "\n",
    "cnt : index의 가격이 떨어지지 않은 기간"
   ]
  },
  {
   "cell_type": "markdown",
   "metadata": {},
   "source": [
    "참고 : 이중 반복문을 활용한 더 쉬운 방법도 있음"
   ]
  },
  {
   "cell_type": "code",
   "execution_count": 5,
   "metadata": {},
   "outputs": [],
   "source": [
    "from collections import deque\n",
    "\n",
    "def solution(prices):\n",
    "    answer = [0]*len(prices) # index 사용을 위해 배열 미리 생성\n",
    "    stack = deque([[-1,0,0]]) # 처음 값 비교를 위해 임의의 값 처리\n",
    "    \n",
    "    for idx, price in enumerate(prices):\n",
    "        while stack[-1][1] > price:\n",
    "            before = stack.pop()\n",
    "            answer[before[0]] = before[2] # 가격이 떨어진 주식은 answer로 입력\n",
    "            if len(stack)==0:\n",
    "                break\n",
    "                \n",
    "        stack.append( [idx,price,0] )\n",
    "        \n",
    "        for val in stack: # 기간이 하루 늘어남을 의미(새로운 값도 1을 증가해야 한다.)\n",
    "            val[2] += 1\n",
    "    #print(stack)\n",
    "    for idx,_,cnt in stack: # 마지막에 -1을 해야 함\n",
    "        answer[idx]=cnt-1    \n",
    "    return answer"
   ]
  },
  {
   "cell_type": "code",
   "execution_count": 6,
   "metadata": {},
   "outputs": [
    {
     "name": "stdout",
     "output_type": "stream",
     "text": [
      "deque([[-1, 0, 5], [0, 1, 5], [1, 2, 4], [3, 2, 2], [4, 3, 1]])\n"
     ]
    },
    {
     "data": {
      "text/plain": [
       "[4, 3, 1, 1, 0]"
      ]
     },
     "execution_count": 6,
     "metadata": {},
     "output_type": "execute_result"
    }
   ],
   "source": [
    "solution([1,2,3,2,3])"
   ]
  }
 ],
 "metadata": {
  "kernelspec": {
   "display_name": "Python 3",
   "language": "python",
   "name": "python3"
  },
  "language_info": {
   "codemirror_mode": {
    "name": "ipython",
    "version": 3
   },
   "file_extension": ".py",
   "mimetype": "text/x-python",
   "name": "python",
   "nbconvert_exporter": "python",
   "pygments_lexer": "ipython3",
   "version": "3.6.7"
  }
 },
 "nbformat": 4,
 "nbformat_minor": 4
}
