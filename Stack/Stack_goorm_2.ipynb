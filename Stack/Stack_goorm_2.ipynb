{
 "cells": [
  {
   "cell_type": "markdown",
   "metadata": {},
   "source": [
    "[문제링크 by Goorm](https://edu.goorm.io/learn/lecture/11220/%EB%A7%A4%EC%A3%BC-%EB%B0%B0%EC%86%A1%EB%B0%9B%EB%8A%94-%EC%95%8C%EA%B3%A0%EB%A6%AC%EC%A6%98-%EB%AC%B8%EC%A0%9C-%EC%9C%84%ED%81%B4%EB%A6%AC-%EB%B9%84%ED%83%80%EC%95%8C%EA%B3%A0/lesson/507762/03%EC%9B%94-4%EC%A3%BC%EC%B0%A8-%EB%91%90%EB%B2%88%EC%A7%B8-%EB%AC%B8%EC%A0%9C-1%EC%B0%A8%EC%9B%90-%EB%BF%8C%EC%9A%94%EB%BF%8C%EC%9A%94)\n",
    "\n",
    "[문제해설 C++ 코드](https://edu.goorm.io/learn/lecture/11220/%EB%A7%A4%EC%A3%BC-%EB%B0%B0%EC%86%A1%EB%B0%9B%EB%8A%94-%EC%95%8C%EA%B3%A0%EB%A6%AC%EC%A6%98-%EB%AC%B8%EC%A0%9C-%EC%9C%84%ED%81%B4%EB%A6%AC-%EB%B9%84%ED%83%80%EC%95%8C%EA%B3%A0/lesson/507765/03%EC%9B%94-4%EC%A3%BC%EC%B0%A8-%EB%91%90%EB%B2%88%EC%A7%B8-%ED%95%B4%EC%84%A4)"
   ]
  },
  {
   "cell_type": "markdown",
   "metadata": {},
   "source": [
    "해설에 설명이 잘 되어 있음"
   ]
  },
  {
   "cell_type": "markdown",
   "metadata": {},
   "source": [
    "### 코드"
   ]
  },
  {
   "cell_type": "markdown",
   "metadata": {},
   "source": [
    "Stack에 [value, 개수]를 넣는다."
   ]
  },
  {
   "cell_type": "markdown",
   "metadata": {},
   "source": [
    "Tip : 마지막 index를 처리하기 위해 특별히 마지막에 아무 문자를 넣고 마지막에 다시 뺀다."
   ]
  },
  {
   "cell_type": "code",
   "execution_count": null,
   "metadata": {},
   "outputs": [],
   "source": [
    "from collections import deque\n",
    "\n",
    "total_len, dup_len = list(map(int, input().split()))\n",
    "data = [i for i in input()]+['$'] # 마지막 문자 추가\n",
    "\n",
    "stack = deque()\n",
    "\n",
    "for idx, char in enumerate(data):\n",
    "\tif len(stack)==0:\n",
    "\t\tstack.append([char,1])\n",
    "\telse:\n",
    "\t\tif stack[-1][0] != char:\n",
    "\t\t\tif stack[-1][1] >= dup_len:\n",
    "\t\t\t\tstack.pop()\n",
    "                # 뿌요가 터진 후 그 전에 값과 비교가 필요\n",
    "\t\t\t\tif len(stack) >0 and stack[-1][0] == char:\n",
    "\t\t\t\t\tstack[-1][1]+=1\n",
    "\t\t\t\telse:\n",
    "\t\t\t\t\tstack.append([char,1])\n",
    "\t\t\telse:\n",
    "\t\t\t\tstack.append([char,1])\n",
    "\t\telse:\n",
    "\t\t\tstack[-1][1]+=1\n",
    "\t\t\t\n",
    "stack.pop() # 마지막 문자 제거\n",
    "\n",
    "if len(stack)==0:\n",
    "\tres = 'CLEAR!'\n",
    "else:\n",
    "\tres = ''.join([i[0]*i[1] for i in stack])\n",
    "\n",
    "print(res)"
   ]
  }
 ],
 "metadata": {
  "kernelspec": {
   "display_name": "Python 3",
   "language": "python",
   "name": "python3"
  },
  "language_info": {
   "codemirror_mode": {
    "name": "ipython",
    "version": 3
   },
   "file_extension": ".py",
   "mimetype": "text/x-python",
   "name": "python",
   "nbconvert_exporter": "python",
   "pygments_lexer": "ipython3",
   "version": "3.6.7"
  }
 },
 "nbformat": 4,
 "nbformat_minor": 4
}
