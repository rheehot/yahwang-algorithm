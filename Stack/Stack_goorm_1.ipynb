{
 "cells": [
  {
   "cell_type": "markdown",
   "metadata": {},
   "source": [
    "[문제링크 by Goorm](https://edu.goorm.io/learn/lecture/11220/%EB%A7%A4%EC%A3%BC-%EB%B0%B0%EC%86%A1%EB%B0%9B%EB%8A%94-%EC%95%8C%EA%B3%A0%EB%A6%AC%EC%A6%98-%EB%AC%B8%EC%A0%9C-%EC%9C%84%ED%81%B4%EB%A6%AC-%EB%B9%84%ED%83%80%EC%95%8C%EA%B3%A0/lesson/459776/03%EC%9B%94-1%EC%A3%BC%EC%B0%A8-%EC%84%B8%EB%B2%88%EC%A7%B8-%EB%AC%B8%EC%A0%9C-%EA%B5%90%EC%88%98%EB%8B%98%EC%9D%98-%EA%B3%BC%EC%A0%9C-%ED%8F%AD%ED%83%84)\n",
    "\n",
    "[문제해설 C++ 코드](https://edu.goorm.io/learn/lecture/11220/%EB%A7%A4%EC%A3%BC-%EB%B0%B0%EC%86%A1%EB%B0%9B%EB%8A%94-%EC%95%8C%EA%B3%A0%EB%A6%AC%EC%A6%98-%EB%AC%B8%EC%A0%9C-%EC%9C%84%ED%81%B4%EB%A6%AC-%EB%B9%84%ED%83%80%EC%95%8C%EA%B3%A0/lesson/459777/03%EC%9B%94-1%EC%A3%BC%EC%B0%A8-%EC%84%B8%EB%B2%88%EC%A7%B8-%ED%95%B4%EC%84%A4)"
   ]
  },
  {
   "cell_type": "markdown",
   "metadata": {},
   "source": [
    "올바른 괄호 판별 문제의 응용 버전\n",
    "\n",
    "\n",
    "각 과제의 데이트마다 일치 여부를 판단하는 index를 추가하는 것이 핵심"
   ]
  },
  {
   "cell_type": "markdown",
   "metadata": {},
   "source": [
    "### 코드 전체 - 테스트 2개 통과 못함"
   ]
  },
  {
   "cell_type": "code",
   "execution_count": null,
   "metadata": {},
   "outputs": [],
   "source": [
    "# from collections import deque\n",
    "\n",
    "user_input = int(input())\n",
    "\n",
    "due_dates=[]\n",
    "for i in range(user_input):\n",
    "    due_date = []\n",
    "    for date in input().split():\n",
    "        month, day = date.split('/')\n",
    "        due_date.append(int(month)*100+int(day)) # 문자열 날짜를 정렬하기 위해 정수값으로 대체\n",
    "    due_dates.append(due_date)\n",
    "\n",
    "# 과제 선택 기준에 맞춰서 정렬\n",
    "due_dates.sort(key=lambda x: (x[0],-x[1]))\n",
    "\n",
    "# 시작 순서대로 stack에 넣고 pop을 해가면서 해당 due date와 일치하는 지 확인\n",
    "\n",
    "stack = deque()\n",
    "end_dates=[]\n",
    "\n",
    "for index,dates in enumerate(due_dates):\n",
    "    stack.append([dates[0], index])\n",
    "    end_dates.append([dates[1], index])\n",
    "\n",
    "end_dates.sort(key=lambda x: (x[0],-x[1]))\n",
    "\n",
    "res = \"Yes\"\n",
    "for index in range(len(stack)):\n",
    "    if stack.pop()[1] != end_dates[index][1]: # 미뤄둔 과제의 due date가 먼저 등장할 때를 말한다.\n",
    "        res = \"No\"\n",
    "        break\n",
    "\n",
    "print(res)"
   ]
  },
  {
   "cell_type": "code",
   "execution_count": null,
   "metadata": {},
   "outputs": [],
   "source": []
  }
 ],
 "metadata": {
  "kernelspec": {
   "display_name": "Python 3",
   "language": "python",
   "name": "python3"
  },
  "language_info": {
   "codemirror_mode": {
    "name": "ipython",
    "version": 3
   },
   "file_extension": ".py",
   "mimetype": "text/x-python",
   "name": "python",
   "nbconvert_exporter": "python",
   "pygments_lexer": "ipython3",
   "version": "3.6.7"
  }
 },
 "nbformat": 4,
 "nbformat_minor": 4
}
