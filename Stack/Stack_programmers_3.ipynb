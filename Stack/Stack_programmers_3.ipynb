{
 "cells": [
  {
   "cell_type": "markdown",
   "metadata": {},
   "source": [
    "[문제링크 by Programmers](https://programmers.co.kr/learn/courses/30/lessons/42588)\n"
   ]
  },
  {
   "cell_type": "markdown",
   "metadata": {},
   "source": [
    "[ 6 9 5 7 4 ]\n",
    "\n",
    "stack\n",
    "\n",
    "[ 6 ]\n",
    "\n",
    "9 대입\n",
    "\n",
    "[ 9 ] => 9보다 작거나 같은 값은 수신 불가하므로 stack에서 6 제거\n",
    "\n",
    "5 대입\n",
    "\n",
    "[ 9 / 5 ]\n",
    "\n",
    "7 대입\n",
    "\n",
    "[ 9 / 7 ] => 5는 7의 신호를 수신 못하므로 stack에서 제거\n",
    "\n",
    "4 대입\n",
    "\n",
    "[ 9 / 7 / 4]"
   ]
  },
  {
   "cell_type": "code",
   "execution_count": 16,
   "metadata": {},
   "outputs": [],
   "source": [
    "from collections import deque\n",
    "\n",
    "def solution(heights):\n",
    "    answer = []\n",
    "    stack = deque([[0,0]]) # 첫번째 비교를 위해 0,0을 임의로 추가\n",
    "    \n",
    "    # stack 길이가 0인 경우만 잘 처리하면 된다.\n",
    "    for idx, tower in enumerate(heights):\n",
    "        while stack[-1][0] <= tower :\n",
    "            stack.pop()\n",
    "            if len(stack)==0:\n",
    "                break\n",
    "                \n",
    "        if len(stack)==0:\n",
    "            answer.append(0)\n",
    "        else:\n",
    "            answer.append(stack[-1][1])\n",
    "            \n",
    "        stack.append([tower,idx+1])\n",
    "        #print(stack)\n",
    "    return answer"
   ]
  },
  {
   "cell_type": "code",
   "execution_count": 17,
   "metadata": {},
   "outputs": [
    {
     "name": "stdout",
     "output_type": "stream",
     "text": [
      "deque([[6, 1]])\n",
      "deque([[9, 2]])\n",
      "deque([[9, 2], [5, 3]])\n",
      "deque([[9, 2], [7, 4]])\n",
      "deque([[9, 2], [7, 4], [4, 5]])\n"
     ]
    },
    {
     "data": {
      "text/plain": [
       "[0, 0, 2, 2, 4]"
      ]
     },
     "execution_count": 17,
     "metadata": {},
     "output_type": "execute_result"
    }
   ],
   "source": [
    "solution([6,9,5,7,4])"
   ]
  },
  {
   "cell_type": "code",
   "execution_count": null,
   "metadata": {},
   "outputs": [],
   "source": []
  }
 ],
 "metadata": {
  "kernelspec": {
   "display_name": "Python 3",
   "language": "python",
   "name": "python3"
  },
  "language_info": {
   "codemirror_mode": {
    "name": "ipython",
    "version": 3
   },
   "file_extension": ".py",
   "mimetype": "text/x-python",
   "name": "python",
   "nbconvert_exporter": "python",
   "pygments_lexer": "ipython3",
   "version": "3.6.7"
  }
 },
 "nbformat": 4,
 "nbformat_minor": 4
}
