{
 "cells": [
  {
   "cell_type": "markdown",
   "metadata": {},
   "source": [
    "[문제링크 by Programmers](https://programmers.co.kr/learn/courses/30/lessons/42841)\n"
   ]
  },
  {
   "cell_type": "markdown",
   "metadata": {},
   "source": [
    "#### itertools의 permutations을 활용"
   ]
  },
  {
   "cell_type": "code",
   "execution_count": null,
   "metadata": {},
   "outputs": [],
   "source": [
    "from itertools import permutations\n",
    "\n",
    "def solution(baseball):\n",
    "    res=0\n",
    "\n",
    "    for num in permutations([1,2,3,4,5,6,7,8,9],3):\n",
    "        answer=''.join([str(i) for i in num])\n",
    "        correct_num=0\n",
    "        \n",
    "        for turn in baseball:\n",
    "            play = str(turn[0])\n",
    "            strike=[]\n",
    "            ball=0\n",
    "            \n",
    "            # strike 비교\n",
    "            for idx, pos in enumerate(play):\n",
    "                if pos == answer[idx]:\n",
    "                    strike.append(pos)\n",
    "\n",
    "            if len(strike) != turn[1]:\n",
    "                break\n",
    "                \n",
    "            # ball 비교\n",
    "            for idx, pos in enumerate(play):\n",
    "                if pos not in strike and pos in answer:\n",
    "                    ball+=1\n",
    "\n",
    "            if ball != turn[2]:\n",
    "                break\n",
    "                \n",
    "            correct_num+=1\n",
    "\n",
    "        if correct_num==len(baseball):\n",
    "            res+=1\n",
    "\n",
    "    return res"
   ]
  },
  {
   "cell_type": "code",
   "execution_count": null,
   "metadata": {},
   "outputs": [],
   "source": []
  }
 ],
 "metadata": {
  "kernelspec": {
   "display_name": "Python 3",
   "language": "python",
   "name": "python3"
  },
  "language_info": {
   "codemirror_mode": {
    "name": "ipython",
    "version": 3
   },
   "file_extension": ".py",
   "mimetype": "text/x-python",
   "name": "python",
   "nbconvert_exporter": "python",
   "pygments_lexer": "ipython3",
   "version": "3.6.7"
  }
 },
 "nbformat": 4,
 "nbformat_minor": 4
}
