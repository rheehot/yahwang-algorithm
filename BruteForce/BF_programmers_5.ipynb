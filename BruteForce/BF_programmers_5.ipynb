{
 "cells": [
  {
   "cell_type": "markdown",
   "metadata": {},
   "source": [
    "[문제링크 by Programmers](https://programmers.co.kr/learn/courses/30/lessons/42842)\n"
   ]
  },
  {
   "cell_type": "code",
   "execution_count": null,
   "metadata": {},
   "outputs": [],
   "source": [
    "def find_pair(num):\n",
    "    pairs=[]\n",
    "    for i in range(2,int(num**(1/2))+1):\n",
    "        if num %i==0:\n",
    "            pairs.append([num//i,i])\n",
    "    return pairs\n",
    "\n",
    "def solution(brown, red):\n",
    "    answer = []\n",
    "    pairs = find_pair(brown+red)\n",
    "    for width,height in pairs:\n",
    "        if red == (width-2)*(height-2):\n",
    "            answer = [width,height]\n",
    "            \n",
    "    return answer"
   ]
  }
 ],
 "metadata": {
  "kernelspec": {
   "display_name": "Python 3",
   "language": "python",
   "name": "python3"
  },
  "language_info": {
   "codemirror_mode": {
    "name": "ipython",
    "version": 3
   },
   "file_extension": ".py",
   "mimetype": "text/x-python",
   "name": "python",
   "nbconvert_exporter": "python",
   "pygments_lexer": "ipython3",
   "version": "3.6.7"
  }
 },
 "nbformat": 4,
 "nbformat_minor": 4
}
