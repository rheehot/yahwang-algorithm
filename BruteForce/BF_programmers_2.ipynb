{
 "cells": [
  {
   "cell_type": "markdown",
   "metadata": {},
   "source": [
    "[문제링크 by Programmers](https://programmers.co.kr/learn/courses/30/lessons/42840)\n"
   ]
  },
  {
   "cell_type": "code",
   "execution_count": null,
   "metadata": {},
   "outputs": [],
   "source": [
    "def solution(answers):\n",
    "    answer = []\n",
    "    p1=[1,2,3,4,5]\n",
    "    p2=[2,1,2,3,2,4,2,5]\n",
    "    p3=[3,3,1,1,2,2,4,4,5,5]\n",
    "    a1=0\n",
    "    a2=0\n",
    "    a3=0\n",
    "    for idx, quiz in enumerate(answers):\n",
    "        if p1[idx%len(p1)] == quiz:\n",
    "            a1+=1\n",
    "        if p2[idx%len(p2)] == quiz:\n",
    "            a2+=1\n",
    "        if p3[idx%len(p3)] == quiz:\n",
    "            a3+=1\n",
    "    max_res = max(max(a1,a2),a3)\n",
    "    if max_res==a1:\n",
    "        answer.append(1)\n",
    "    if max_res==a2:\n",
    "        answer.append(2)\n",
    "    if max_res==a3:\n",
    "        answer.append(3)\n",
    "        \n",
    "    return answer"
   ]
  }
 ],
 "metadata": {
  "kernelspec": {
   "display_name": "Python 3",
   "language": "python",
   "name": "python3"
  },
  "language_info": {
   "codemirror_mode": {
    "name": "ipython",
    "version": 3
   },
   "file_extension": ".py",
   "mimetype": "text/x-python",
   "name": "python",
   "nbconvert_exporter": "python",
   "pygments_lexer": "ipython3",
   "version": "3.6.7"
  }
 },
 "nbformat": 4,
 "nbformat_minor": 4
}
