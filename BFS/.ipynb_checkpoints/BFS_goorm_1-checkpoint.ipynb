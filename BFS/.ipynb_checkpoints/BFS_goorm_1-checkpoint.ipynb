{
 "cells": [
  {
   "cell_type": "markdown",
   "metadata": {},
   "source": [
    "[문제링크 by Goorm](https://edu.goorm.io/learn/lecture/11220/%EB%A7%A4%EC%A3%BC-%EB%B0%B0%EC%86%A1%EB%B0%9B%EB%8A%94-%EC%95%8C%EA%B3%A0%EB%A6%AC%EC%A6%98-%EB%AC%B8%EC%A0%9C-%EC%9C%84%ED%81%B4%EB%A6%AC-%EB%B9%84%ED%83%80%EC%95%8C%EA%B3%A0/lesson/493373/03%EC%9B%94-3%EC%A3%BC%EC%B0%A8-%EB%91%90%EB%B2%88%EC%A7%B8-%EB%AC%B8%EC%A0%9C-%EB%B6%88%EC%9D%B4%EC%95%BC)\n",
    "\n",
    "[문제해설 C++ 코드](https://edu.goorm.io/learn/lecture/11220/%EB%A7%A4%EC%A3%BC-%EB%B0%B0%EC%86%A1%EB%B0%9B%EB%8A%94-%EC%95%8C%EA%B3%A0%EB%A6%AC%EC%A6%98-%EB%AC%B8%EC%A0%9C-%EC%9C%84%ED%81%B4%EB%A6%AC-%EB%B9%84%ED%83%80%EC%95%8C%EA%B3%A0/lesson/496071/03%EC%9B%94-3%EC%A3%BC%EC%B0%A8-%EB%91%90%EB%B2%88%EC%A7%B8-%ED%95%B4%EC%84%A4)"
   ]
  },
  {
   "cell_type": "markdown",
   "metadata": {},
   "source": [
    "연구공간을 표시하기 위한 maps\n",
    "\n",
    "불난 지역을 표시하기 위한 fire_maps"
   ]
  },
  {
   "cell_type": "markdown",
   "metadata": {},
   "source": [
    "불이 확산되는 것을 표시하기 위해 현재 불 위치를 queue에 넣고 확인"
   ]
  },
  {
   "cell_type": "markdown",
   "metadata": {},
   "source": [
    "### 코드"
   ]
  },
  {
   "cell_type": "code",
   "execution_count": null,
   "metadata": {},
   "outputs": [],
   "source": [
    "# 내 위치 : my_loc\n",
    "\n",
    "from collections import deque\n",
    "import sys\n",
    "\n",
    "row_num, col_num = list(map(int, input().split()))\n",
    "\n",
    "maps = [[0]*col_num for _ in range(row_num)]\n",
    "\n",
    "fire_maps = [[0]*col_num for _ in range(row_num)]\n",
    "\n",
    "fire_q=deque()\n",
    "\n",
    "for row_idx in range(row_num):\n",
    "\tloc=input()\n",
    "\tfor col_idx in range(col_num):\n",
    "\t\tmaps[row_idx][col_idx] = loc[col_idx]\n",
    "\t\tif loc[col_idx] == '&':\n",
    "\t\t\tmy_loc = (row_idx, col_idx)\n",
    "\t\telif loc[col_idx] == '@':\n",
    "\t\t\tfire_maps[row_idx][col_idx] = 1\n",
    "\t\t\tfire_q.appendleft((row_idx, col_idx))\n",
    "\n",
    "caution = ((-1,0),(1,0),(0,1),(0,-1)) # 불이 확산되는 x축, y축 방향\n",
    "\n",
    "res = 0\n",
    "\n",
    "while(len(fire_q)!=0):\n",
    "\tfor _ in range(len(fire_q)): # 모든 불을 확인\n",
    "\t\tx,y=fire_q.pop()\n",
    "\t\tif (x,y) == my_loc: # 불 확산 위치가 나에게 닿으면 결과값에 -1한 값을 출력\n",
    "\t\t\tprint(res-1)\n",
    "\t\t\tsys.exit()\n",
    "\t\t\t\n",
    "\t\tfor i,j in caution:\n",
    "\t\t\tdx = x+i\n",
    "\t\t\tdy = y+j\n",
    "            # 불 확산 위치에 어긋나는 조건 제외\n",
    "\t\t\tif dx <0 or dy<0 or dx>=row_num or dy>=col_num or maps[dx][dy] =='#' or fire_maps[dx][dy]:\n",
    "\t\t\t\tcontinue\n",
    "\t\t\tfire_maps[dx][dy] = 1;\n",
    "\t\t\tfire_q.appendleft((dx,dy)) # 확산 위치를 다시 queue에 넣어 재확산 확인\n",
    "\tres+=1 # 내 위치에 접근하지 못할 경우 1초 증가\n",
    "\t\t\t\t\n",
    "print(-1) # 영향이 없을 경우"
   ]
  }
 ],
 "metadata": {
  "kernelspec": {
   "display_name": "Python 3",
   "language": "python",
   "name": "python3"
  },
  "language_info": {
   "codemirror_mode": {
    "name": "ipython",
    "version": 3
   },
   "file_extension": ".py",
   "mimetype": "text/x-python",
   "name": "python",
   "nbconvert_exporter": "python",
   "pygments_lexer": "ipython3",
   "version": "3.6.7"
  }
 },
 "nbformat": 4,
 "nbformat_minor": 4
}
