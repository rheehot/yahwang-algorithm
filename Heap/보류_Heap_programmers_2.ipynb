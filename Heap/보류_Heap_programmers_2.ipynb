{
 "cells": [
  {
   "cell_type": "markdown",
   "metadata": {},
   "source": [
    "[문제링크 by Programmers](https://programmers.co.kr/learn/courses/30/lessons/42627)\n"
   ]
  },
  {
   "cell_type": "markdown",
   "metadata": {},
   "source": [
    "#### 20개 중 7개 통과"
   ]
  },
  {
   "cell_type": "code",
   "execution_count": 27,
   "metadata": {},
   "outputs": [],
   "source": [
    "import heapq\n",
    "\n",
    "def solution(jobs):\n",
    "    answer=0\n",
    "    h=[]\n",
    "    time=0\n",
    "    res=0\n",
    "    finish_time=0\n",
    "    finished=-1\n",
    "    working=False\n",
    "    jobs.sort(key=lambda x:(x[0],x[1]))\n",
    "    len_jobs=len(jobs)\n",
    "    while finished < len_jobs:\n",
    "        \n",
    "        if time == finish_time:\n",
    "            finished+=1\n",
    "            working=False\n",
    "        \n",
    "        while len(jobs)!=0 and jobs[0][0] == time:\n",
    "            heapq.heappush(h, (-jobs[0][0]+jobs[0][1], jobs[0][1]))\n",
    "            jobs.pop(0)\n",
    "            \n",
    "        if not working and len(h) !=0:\n",
    "            job = heapq.heappop(h)\n",
    "            res+=time+job[0]\n",
    "            finish_time=time+job[1]\n",
    "            working=True\n",
    "\n",
    "        time+=1\n",
    "    return res//len_jobs"
   ]
  },
  {
   "cell_type": "code",
   "execution_count": 31,
   "metadata": {},
   "outputs": [
    {
     "name": "stdout",
     "output_type": "stream",
     "text": [
      "0 [] False -1\n",
      "1 [] False 0\n",
      "2 [] False 0\n",
      "3 [(2, 4), (2, 7), (2, 5), (2, 9)] True 0\n",
      "4 [(2, 4), (2, 7), (2, 5), (2, 9)] True 0\n",
      "5 [(2, 4), (2, 7), (2, 5), (2, 9)] True 0\n",
      "6 [(2, 5), (2, 7), (2, 9)] True 1\n",
      "7 [(2, 5), (2, 7), (2, 9)] True 1\n",
      "8 [(2, 5), (2, 7), (2, 9)] True 1\n",
      "9 [(2, 5), (2, 7), (2, 9)] True 1\n",
      "10 [(2, 7), (2, 9)] True 2\n",
      "11 [(2, 7), (2, 9)] True 2\n",
      "12 [(2, 7), (2, 9)] True 2\n",
      "13 [(2, 7), (2, 9)] True 2\n",
      "14 [(2, 7), (2, 9)] True 2\n",
      "15 [(2, 9)] True 3\n",
      "16 [(2, 9)] True 3\n",
      "17 [(2, 9)] True 3\n",
      "18 [(2, 9)] True 3\n",
      "19 [(2, 9)] True 3\n",
      "20 [(2, 9)] True 3\n",
      "21 [(2, 9)] True 3\n",
      "22 [] True 4\n",
      "23 [] True 4\n",
      "24 [] True 4\n",
      "25 [] True 4\n",
      "26 [] True 4\n",
      "27 [] True 4\n",
      "28 [] True 4\n",
      "29 [] True 4\n",
      "30 [] True 4\n",
      "[3, 7, 12, 19, 28]\n"
     ]
    },
    {
     "data": {
      "text/plain": [
       "13"
      ]
     },
     "execution_count": 31,
     "metadata": {},
     "output_type": "execute_result"
    }
   ],
   "source": [
    "solution( [[2, 9], [2, 4], [2, 5], [2, 7], [2, 3]])"
   ]
  },
  {
   "cell_type": "code",
   "execution_count": 32,
   "metadata": {},
   "outputs": [
    {
     "name": "stdout",
     "output_type": "stream",
     "text": [
      "0 [] False -1\n",
      "1 [] True 0\n",
      "2 [(1, 9)] True 0\n",
      "3 [(1, 9), (2, 6)] True 0\n",
      "4 [(2, 6)] True 1\n",
      "5 [(2, 6)] True 1\n",
      "6 [(2, 6)] True 1\n",
      "7 [(2, 6)] True 1\n",
      "8 [(2, 6)] True 1\n",
      "9 [(2, 6)] True 1\n",
      "10 [(2, 6)] True 1\n",
      "11 [(2, 6)] True 1\n",
      "12 [(2, 6)] True 1\n",
      "13 [] True 2\n",
      "14 [] True 2\n",
      "15 [] True 2\n",
      "16 [] True 2\n",
      "17 [] True 2\n",
      "18 [] True 2\n",
      "[3, 11, 16]\n"
     ]
    },
    {
     "data": {
      "text/plain": [
       "10"
      ]
     },
     "execution_count": 32,
     "metadata": {},
     "output_type": "execute_result"
    }
   ],
   "source": [
    "solution([[0, 3], [1, 9], [2, 6]])"
   ]
  },
  {
   "cell_type": "code",
   "execution_count": 33,
   "metadata": {},
   "outputs": [
    {
     "name": "stdout",
     "output_type": "stream",
     "text": [
      "0 [] False -1\n",
      "1 [] True 0\n",
      "2 [(1, 9)] True 0\n",
      "3 [(1, 9), (2, 6)] True 0\n",
      "4 [(2, 6)] True 1\n",
      "5 [(2, 6), (4, 3)] True 1\n",
      "6 [(2, 6), (4, 3)] True 1\n",
      "7 [(2, 6), (4, 3)] True 1\n",
      "8 [(2, 6), (4, 3)] True 1\n",
      "9 [(2, 6), (4, 3)] True 1\n",
      "10 [(2, 6), (4, 3)] True 1\n",
      "11 [(2, 6), (4, 3)] True 1\n",
      "12 [(2, 6), (4, 3)] True 1\n",
      "13 [(4, 3)] True 2\n",
      "14 [(4, 3)] True 2\n",
      "15 [(4, 3)] True 2\n",
      "16 [(4, 3)] True 2\n",
      "17 [(4, 3)] True 2\n",
      "18 [(4, 3)] True 2\n",
      "19 [] True 3\n",
      "20 [] True 3\n",
      "21 [] True 3\n",
      "[3, 11, 16, 17]\n"
     ]
    },
    {
     "data": {
      "text/plain": [
       "11"
      ]
     },
     "execution_count": 33,
     "metadata": {},
     "output_type": "execute_result"
    }
   ],
   "source": [
    "solution([[0, 3], [1, 9], [2, 6], [4, 3]])"
   ]
  }
 ],
 "metadata": {
  "kernelspec": {
   "display_name": "Python 3",
   "language": "python",
   "name": "python3"
  },
  "language_info": {
   "codemirror_mode": {
    "name": "ipython",
    "version": 3
   },
   "file_extension": ".py",
   "mimetype": "text/x-python",
   "name": "python",
   "nbconvert_exporter": "python",
   "pygments_lexer": "ipython3",
   "version": "3.6.7"
  }
 },
 "nbformat": 4,
 "nbformat_minor": 4
}
