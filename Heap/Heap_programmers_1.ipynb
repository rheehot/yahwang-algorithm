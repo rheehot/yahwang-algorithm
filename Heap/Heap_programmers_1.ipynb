{
 "cells": [
  {
   "cell_type": "markdown",
   "metadata": {},
   "source": [
    "[문제링크 by Programmers](https://programmers.co.kr/learn/courses/30/lessons/42842)\n"
   ]
  },
  {
   "cell_type": "code",
   "execution_count": 14,
   "metadata": {},
   "outputs": [],
   "source": [
    "import heapq\n",
    "\n",
    "def solution(scoville, K):\n",
    "    answer = 0\n",
    "    heapq.heapify(scoville)\n",
    "    while len(scoville) >=2:\n",
    "        first = heapq.heappop(scoville)\n",
    "        second = heapq.heappop(scoville)\n",
    "        s_index = first + (2*second)\n",
    "        answer+=1\n",
    "        heapq.heappush(scoville,s_index)\n",
    "        if scoville[0] >= K:\n",
    "            return answer\n",
    "    return -1"
   ]
  },
  {
   "cell_type": "markdown",
   "metadata": {},
   "source": [
    "참고 : PriorityQueue 사용 ( 코드는 통과 but 효율성 테스트 실패 )"
   ]
  },
  {
   "cell_type": "code",
   "execution_count": 9,
   "metadata": {},
   "outputs": [],
   "source": [
    "from queue import PriorityQueue\n",
    "\n",
    "def solution(scoville, K):\n",
    "    answer = 0\n",
    "    q = PriorityQueue()\n",
    "    for i in scoville:\n",
    "        q.put(i)\n",
    "    while q.qsize() >=2:\n",
    "        first = q.get()\n",
    "        second = q.get()\n",
    "        s_index = first + (2*second)\n",
    "        answer+=1\n",
    "        q.put(s_index)\n",
    "        #print(q.queue)\n",
    "        if q.queue[0] >= K:\n",
    "            return answer\n",
    "    return -1"
   ]
  }
 ],
 "metadata": {
  "kernelspec": {
   "display_name": "Python 3",
   "language": "python",
   "name": "python3"
  },
  "language_info": {
   "codemirror_mode": {
    "name": "ipython",
    "version": 3
   },
   "file_extension": ".py",
   "mimetype": "text/x-python",
   "name": "python",
   "nbconvert_exporter": "python",
   "pygments_lexer": "ipython3",
   "version": "3.6.7"
  }
 },
 "nbformat": 4,
 "nbformat_minor": 4
}
