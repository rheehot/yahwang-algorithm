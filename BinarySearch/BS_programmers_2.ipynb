{
 "cells": [
  {
   "cell_type": "markdown",
   "metadata": {},
   "source": [
    "[문제링크 by Programmers](https://programmers.co.kr/learn/courses/30/lessons/43237)\n"
   ]
  },
  {
   "cell_type": "markdown",
   "metadata": {},
   "source": [
    "#### binary search를 활용하는 예제 "
   ]
  },
  {
   "cell_type": "markdown",
   "metadata": {},
   "source": [
    "최대최소는 모든 경우의 수를 계산해봐야 하는 듯 하다."
   ]
  },
  {
   "cell_type": "code",
   "execution_count": null,
   "metadata": {},
   "outputs": [],
   "source": [
    "def solution(budgets, M):\n",
    "    \n",
    "    # BS를 위한 정렬\n",
    "    budgets.sort()\n",
    "    \n",
    "    low=1\n",
    "    high=budgets[-1]\n",
    "    answer=0\n",
    "    \n",
    "    if sum(budgets)<M:\n",
    "        return high\n",
    "    \n",
    "    while low <= high:\n",
    "        mid = (low+high)//2\n",
    "        tot = 0\n",
    "        \n",
    "        for budget in budgets:\n",
    "            if budget > mid:\n",
    "                budget = mid\n",
    "            tot += budget\n",
    "            \n",
    "        if tot > M:\n",
    "            high = mid-1\n",
    "        # tot == M에서 멈추는 것이 아니라 끝까지 수행\n",
    "        else:\n",
    "            low = mid+1\n",
    "            answer = mid\n",
    "    return answer"
   ]
  }
 ],
 "metadata": {
  "kernelspec": {
   "display_name": "Python 3",
   "language": "python",
   "name": "python3"
  },
  "language_info": {
   "codemirror_mode": {
    "name": "ipython",
    "version": 3
   },
   "file_extension": ".py",
   "mimetype": "text/x-python",
   "name": "python",
   "nbconvert_exporter": "python",
   "pygments_lexer": "ipython3",
   "version": "3.6.7"
  }
 },
 "nbformat": 4,
 "nbformat_minor": 4
}
