{
 "cells": [
  {
   "cell_type": "markdown",
   "metadata": {},
   "source": [
    "[문제링크 by Programmers](https://programmers.co.kr/learn/courses/30/lessons/42747)\n"
   ]
  },
  {
   "cell_type": "markdown",
   "metadata": {},
   "source": [
    "#### binary search를 활용하는 예제 \n",
    "\n",
    "정렬 문제로 지정되어 있지만 bs를 활용해서 풀었다. 여러가지 풀이가 존재한다."
   ]
  },
  {
   "cell_type": "code",
   "execution_count": null,
   "metadata": {},
   "outputs": [],
   "source": [
    "def solution(citations):    \n",
    "    answer=0\n",
    "    low=0\n",
    "    high=max(citations)\n",
    "    \n",
    "    while low <= high:\n",
    "        mid = (low+high)//2\n",
    "        right=0\n",
    "        for i in citations:\n",
    "            if i >= mid:\n",
    "                right+=1\n",
    "        if right >= mid:\n",
    "            answer = mid\n",
    "        if right < mid:\n",
    "            high = mid - 1\n",
    "        else:\n",
    "            low = mid + 1\n",
    "            \n",
    "    return answer"
   ]
  }
 ],
 "metadata": {
  "kernelspec": {
   "display_name": "Python 3",
   "language": "python",
   "name": "python3"
  },
  "language_info": {
   "codemirror_mode": {
    "name": "ipython",
    "version": 3
   },
   "file_extension": ".py",
   "mimetype": "text/x-python",
   "name": "python",
   "nbconvert_exporter": "python",
   "pygments_lexer": "ipython3",
   "version": "3.6.7"
  }
 },
 "nbformat": 4,
 "nbformat_minor": 4
}
