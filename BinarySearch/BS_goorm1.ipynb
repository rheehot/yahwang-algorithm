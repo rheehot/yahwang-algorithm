{
 "cells": [
  {
   "cell_type": "markdown",
   "metadata": {},
   "source": [
    "[문제링크 by Goorm](https://edu.goorm.io/learn/lecture/11220/%EB%A7%A4%EC%A3%BC-%EB%B0%B0%EC%86%A1%EB%B0%9B%EB%8A%94-%EC%95%8C%EA%B3%A0%EB%A6%AC%EC%A6%98-%EB%AC%B8%EC%A0%9C-%EC%9C%84%ED%81%B4%EB%A6%AC-%EB%B9%84%ED%83%80%EC%95%8C%EA%B3%A0/lesson/523181/04%EC%9B%94-1%EC%A3%BC%EC%B0%A8-%EC%B2%AB%EB%B2%88%EC%A7%B8-%EB%AC%B8%EC%A0%9C-%EB%B0%A9-%ED%83%88%EC%B6%9C%ED%95%98%EA%B8%B0)\n",
    "\n",
    "[문제해설 C++ 코드](https://edu.goorm.io/learn/lecture/11220/%EB%A7%A4%EC%A3%BC-%EB%B0%B0%EC%86%A1%EB%B0%9B%EB%8A%94-%EC%95%8C%EA%B3%A0%EB%A6%AC%EC%A6%98-%EB%AC%B8%EC%A0%9C-%EC%9C%84%ED%81%B4%EB%A6%AC-%EB%B9%84%ED%83%80%EC%95%8C%EA%B3%A0/lesson/523183/04%EC%9B%94-1%EC%A3%BC%EC%B0%A8-%EC%B2%AB%EB%B2%88%EC%A7%B8-%ED%95%B4%EC%84%A4)"
   ]
  },
  {
   "cell_type": "markdown",
   "metadata": {},
   "source": [
    "#### binary search를 활용하는 예제 \n",
    "\n",
    "binary search는 정렬된 배열에서 O(logN)의 성능을 보인다."
   ]
  },
  {
   "cell_type": "markdown",
   "metadata": {},
   "source": [
    "참고 : https://cjh5414.github.io/binary-search/"
   ]
  },
  {
   "cell_type": "code",
   "execution_count": null,
   "metadata": {},
   "outputs": [],
   "source": [
    "def binary_search(array, val):\n",
    "\tlow = 0\n",
    "\thigh = len(array)-1\n",
    "\t\n",
    "\twhile low <= high:\n",
    "\t\tmid = (low+high)//2\n",
    "\t\tif val == array[mid]:\n",
    "\t\t\treturn 1\n",
    "\t\t\tbreak\n",
    "\t\telif val > array[mid]:\n",
    "\t\t\tlow = mid + 1\n",
    "\t\telse:\n",
    "\t\t\thigh = mid -1\n",
    "\treturn 0\n",
    "\n",
    "list_num = int(input())\n",
    "num_list = list(map(int,input().split()))\n",
    "test_num = int(input())\n",
    "test_list = list(map(int, input().split()))\n",
    " \n",
    "num_list.sort() # binary_Search를 위한 정렬\n",
    "\n",
    "for test in test_list:\n",
    "\tres = binary_search(num_list, test)\n",
    "\tprint(res)"
   ]
  }
 ],
 "metadata": {
  "kernelspec": {
   "display_name": "Python 3",
   "language": "python",
   "name": "python3"
  },
  "language_info": {
   "codemirror_mode": {
    "name": "ipython",
    "version": 3
   },
   "file_extension": ".py",
   "mimetype": "text/x-python",
   "name": "python",
   "nbconvert_exporter": "python",
   "pygments_lexer": "ipython3",
   "version": "3.6.7"
  }
 },
 "nbformat": 4,
 "nbformat_minor": 4
}
