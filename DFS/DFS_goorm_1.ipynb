{
 "cells": [
  {
   "cell_type": "markdown",
   "metadata": {},
   "source": [
    "[문제링크 by Goorm](https://edu.goorm.io/learn/lecture/11220/%EB%A7%A4%EC%A3%BC-%EB%B0%B0%EC%86%A1%EB%B0%9B%EB%8A%94-%EC%95%8C%EA%B3%A0%EB%A6%AC%EC%A6%98-%EB%AC%B8%EC%A0%9C-%EC%9C%84%ED%81%B4%EB%A6%AC-%EB%B9%84%ED%83%80%EC%95%8C%EA%B3%A0/lesson/488077/03%EC%9B%94-2%EC%A3%BC%EC%B0%A8-%EB%91%90%EB%B2%88%EC%A7%B8-%EB%AC%B8%EC%A0%9C-%EC%95%8C%ED%8C%8C%EB%B2%B3-%ED%8A%B8%EB%A6%AC-%EC%9E%A5%EB%82%9C%EA%B0%90)\n",
    "\n",
    "[문제해설 C++ 코드](https://edu.goorm.io/learn/lecture/11220/%EB%A7%A4%EC%A3%BC-%EB%B0%B0%EC%86%A1%EB%B0%9B%EB%8A%94-%EC%95%8C%EA%B3%A0%EB%A6%AC%EC%A6%98-%EB%AC%B8%EC%A0%9C-%EC%9C%84%ED%81%B4%EB%A6%AC-%EB%B9%84%ED%83%80%EC%95%8C%EA%B3%A0/lesson/488080/03%EC%9B%94-2%EC%A3%BC%EC%B0%A8-%EB%91%90%EB%B2%88%EC%A7%B8-%ED%95%B4%EC%84%A4)"
   ]
  },
  {
   "cell_type": "markdown",
   "metadata": {},
   "source": [
    "        0\n",
    "       1  2\n",
    "      3 4 5 6"
   ]
  },
  {
   "cell_type": "markdown",
   "metadata": {},
   "source": [
    "#### 모든 node를 list로 만들고 left는 index*2+1, right는 index*2+2로 접근해서 binary Tree를 구현"
   ]
  },
  {
   "cell_type": "markdown",
   "metadata": {},
   "source": [
    "### 코드"
   ]
  },
  {
   "cell_type": "code",
   "execution_count": 6,
   "metadata": {},
   "outputs": [
    {
     "data": {
      "text/plain": [
       "65"
      ]
     },
     "execution_count": 6,
     "metadata": {},
     "output_type": "execute_result"
    }
   ],
   "source": [
    "# 아스키코드 숫자로\n",
    "ord('A')"
   ]
  },
  {
   "cell_type": "markdown",
   "metadata": {},
   "source": [
    "모든 node에서 min, max값을 리스트로 전달하게 한다.\n",
    "\n",
    "current_depth는 recursion을 멈출 때(leaf node)를 파악하기 위한 용도"
   ]
  },
  {
   "cell_type": "code",
   "execution_count": null,
   "metadata": {},
   "outputs": [],
   "source": [
    "def dfs(tree, index, current_depth, depth):\n",
    "\tif current_depth == depth:\n",
    "\t\treturn [tree[index],tree[index]]\n",
    "    \n",
    "\tleft = dfs(tree, index*2+1, current_depth+1, depth)\n",
    "\tright = dfs(tree, index*2+2, current_depth+1, depth)\n",
    "    \n",
    "\tminimum = min(left[0], right[0]) + tree[index]\n",
    "\tmaximum = max(left[1], right[1]) + tree[index]\n",
    "    \n",
    "\treturn [minimum, maximum]\n",
    "\n",
    "if __name__==\"__main__\":\n",
    "\tuser_input = int(input())\n",
    "\ttree = []\n",
    "\n",
    "\tfor i in range(user_input):\n",
    "\t\ttree.extend([ord(char)-64 for char in input()])\n",
    "\n",
    "\tres = dfs(tree,0,1,user_input)\t\n",
    "\tprint(res[0])\n",
    "\tprint(res[1])"
   ]
  }
 ],
 "metadata": {
  "kernelspec": {
   "display_name": "Python 3",
   "language": "python",
   "name": "python3"
  },
  "language_info": {
   "codemirror_mode": {
    "name": "ipython",
    "version": 3
   },
   "file_extension": ".py",
   "mimetype": "text/x-python",
   "name": "python",
   "nbconvert_exporter": "python",
   "pygments_lexer": "ipython3",
   "version": "3.6.7"
  }
 },
 "nbformat": 4,
 "nbformat_minor": 4
}
