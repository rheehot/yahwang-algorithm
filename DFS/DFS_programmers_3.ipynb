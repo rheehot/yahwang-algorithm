{
 "cells": [
  {
   "cell_type": "markdown",
   "metadata": {},
   "source": [
    "[문제링크 by Programmers](https://programmers.co.kr/learn/courses/30/lessons/43163)\n"
   ]
  },
  {
   "cell_type": "markdown",
   "metadata": {},
   "source": [
    "BFS로도 풀 수 있음"
   ]
  },
  {
   "cell_type": "markdown",
   "metadata": {},
   "source": [
    "remains: 이미 부모 노드에서 선택된 단어를 리스트에서 점점 제거"
   ]
  },
  {
   "cell_type": "code",
   "execution_count": 98,
   "metadata": {},
   "outputs": [],
   "source": [
    "def find_next_word(start, words):\n",
    "    res = []\n",
    "    for word in words:\n",
    "        cnt=0\n",
    "        for char1, char2 in zip(start, word):\n",
    "            if cnt >1:\n",
    "                break\n",
    "            elif char1!=char2:\n",
    "                cnt+=1\n",
    "        if cnt==1:\n",
    "            res.append(word)\n",
    "    return res\n",
    "\n",
    "def dfs(start,target,words, depth):\n",
    "    \n",
    "    next_words=find_next_word(start, words)\n",
    "            \n",
    "    if len(next_words)==0 or target in next_words:\n",
    "        return depth\n",
    "    \n",
    "    res=[]\n",
    "    for next_word in next_words:            \n",
    "        remains = words.copy()\n",
    "        remains.remove(next_word)\n",
    "        res.append( dfs(next_word,target,remains, depth+1) )\n",
    "        \n",
    "    depth=min(res)\n",
    "    \n",
    "    return depth\n",
    "    \n",
    "def solution(begin, target, words):\n",
    "    answer = 0\n",
    "    if target not in words:\n",
    "        return 0\n",
    "    answer = dfs(begin, target, words, 1)\n",
    "    return answer"
   ]
  },
  {
   "cell_type": "code",
   "execution_count": 99,
   "metadata": {},
   "outputs": [
    {
     "data": {
      "text/plain": [
       "4"
      ]
     },
     "execution_count": 99,
     "metadata": {},
     "output_type": "execute_result"
    }
   ],
   "source": [
    "solution(\"hit\", \"cog\", [\"hot\", \"dot\", \"dog\", \"lot\", \"log\", \"cog\"])"
   ]
  },
  {
   "cell_type": "markdown",
   "metadata": {},
   "source": [
    "<img src=\"./DFS_3.jpg\" width=\"400px\" alt=\"airflow_setting\">"
   ]
  }
 ],
 "metadata": {
  "kernelspec": {
   "display_name": "Python 3",
   "language": "python",
   "name": "python3"
  },
  "language_info": {
   "codemirror_mode": {
    "name": "ipython",
    "version": 3
   },
   "file_extension": ".py",
   "mimetype": "text/x-python",
   "name": "python",
   "nbconvert_exporter": "python",
   "pygments_lexer": "ipython3",
   "version": "3.6.7"
  }
 },
 "nbformat": 4,
 "nbformat_minor": 4
}
