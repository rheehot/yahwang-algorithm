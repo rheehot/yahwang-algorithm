{
 "cells": [
  {
   "cell_type": "markdown",
   "metadata": {},
   "source": [
    "[문제링크 by Programmers](https://programmers.co.kr/learn/courses/30/lessons/43165)\n"
   ]
  },
  {
   "cell_type": "markdown",
   "metadata": {},
   "source": [
    "#### 모든 경우의 수를 구한 후 target의 개수를 계산하여 풀었음"
   ]
  },
  {
   "cell_type": "code",
   "execution_count": 2,
   "metadata": {},
   "outputs": [],
   "source": [
    "def dfs(numbers, depth):\n",
    "    if depth == len(numbers):\n",
    "        return [0] # 마지막 depth는 0을 리턴\n",
    "    \n",
    "    next_depth = dfs(numbers, depth+1)\n",
    "    \n",
    "    left = list(map(lambda x: x + numbers[depth], next_depth))\n",
    "    right = list(map(lambda x: x - numbers[depth], next_depth))\n",
    "    return left+right\n",
    "\n",
    "def solution(numbers, target):\n",
    "    answer = 0\n",
    "    answer= dfs(numbers, 0)\n",
    "    return answer.count(target)"
   ]
  },
  {
   "cell_type": "markdown",
   "metadata": {},
   "source": [
    "depth+1에서 계산한 결과에 left는 +, right는 -를 수행하고 합쳐서 return              \n",
    "\n",
    "=> depth-1일수록 결과는 2의 배수로 증가\n",
    "              \n",
    "          +1         -1       depth: 0  next_depth: [2,0,0,2] left: [3,1,1,-1] right: [1,-1,-1,-3]\n",
    "        +1 -1      +1 -1       depth: 1  next_depth: [1, -1]   left: [2, 0]     right: [0, 2]\n",
    "     +1 -1 +1 -1 +1 -1 +1 -1   depth: 2  next_depth: [0]       left: [1]        right: [-1]                     "
   ]
  },
  {
   "cell_type": "markdown",
   "metadata": {},
   "source": [
    "[1, -1] => [2,0 / 0,2] => [ 3,1,1,-1 / 1,-1,-1,-3]"
   ]
  },
  {
   "cell_type": "code",
   "execution_count": 3,
   "metadata": {},
   "outputs": [
    {
     "data": {
      "text/plain": [
       "5"
      ]
     },
     "execution_count": 3,
     "metadata": {},
     "output_type": "execute_result"
    }
   ],
   "source": [
    "solution([1,1,1,1,1], 3)"
   ]
  },
  {
   "cell_type": "code",
   "execution_count": null,
   "metadata": {},
   "outputs": [],
   "source": []
  }
 ],
 "metadata": {
  "kernelspec": {
   "display_name": "Python 3",
   "language": "python",
   "name": "python3"
  },
  "language_info": {
   "codemirror_mode": {
    "name": "ipython",
    "version": 3
   },
   "file_extension": ".py",
   "mimetype": "text/x-python",
   "name": "python",
   "nbconvert_exporter": "python",
   "pygments_lexer": "ipython3",
   "version": "3.6.7"
  }
 },
 "nbformat": 4,
 "nbformat_minor": 4
}
