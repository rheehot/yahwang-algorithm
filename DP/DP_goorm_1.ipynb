{
 "cells": [
  {
   "cell_type": "markdown",
   "metadata": {},
   "source": [
    "[문제링크 by Goorm](https://edu.goorm.io/learn/lecture/11220/%EB%A7%A4%EC%A3%BC-%EB%B0%B0%EC%86%A1%EB%B0%9B%EB%8A%94-%EC%95%8C%EA%B3%A0%EB%A6%AC%EC%A6%98-%EB%AC%B8%EC%A0%9C-%EC%9C%84%ED%81%B4%EB%A6%AC-%EB%B9%84%ED%83%80%EC%95%8C%EA%B3%A0/lesson/490122/03%EC%9B%94-2%EC%A3%BC%EC%B0%A8-%EC%84%B8%EB%B2%88%EC%A7%B8-%EB%AC%B8%EC%A0%9C-%EB%8F%99%EC%A0%84-%EC%A4%8D%EA%B8%B0-%EB%8C%80%ED%9A%8C)\n",
    "\n",
    "[문제해설 C++ 코드](https://edu.goorm.io/learn/lecture/11220/%EB%A7%A4%EC%A3%BC-%EB%B0%B0%EC%86%A1%EB%B0%9B%EB%8A%94-%EC%95%8C%EA%B3%A0%EB%A6%AC%EC%A6%98-%EB%AC%B8%EC%A0%9C-%EC%9C%84%ED%81%B4%EB%A6%AC-%EB%B9%84%ED%83%80%EC%95%8C%EA%B3%A0/lesson/490123/03%EC%9B%94-2%EC%A3%BC%EC%B0%A8-%EC%84%B8%EB%B2%88%EC%A7%B8-%ED%95%B4%EC%84%A4)"
   ]
  },
  {
   "cell_type": "markdown",
   "metadata": {},
   "source": [
    "코인을 항상 연속적으로 선택해야 한다.\n",
    "\n",
    "coins = [ 10 -5 3 2 4 7]\n",
    "\n",
    "경우의 수 예시\n",
    "\n",
    "dp[ '2' ][0] = 2코인만 선택\n",
    "\n",
    "d[[ '2' ][1] = 추가로 1개 더 선택 (2 +4)\n",
    "\n",
    "d[[ '2' ][2] = 추가로 2개 더 선택 (2 +4 + 7)"
   ]
  },
  {
   "cell_type": "markdown",
   "metadata": {},
   "source": [
    "### 코드 - 테스트 3개 실패"
   ]
  },
  {
   "cell_type": "code",
   "execution_count": null,
   "metadata": {},
   "outputs": [],
   "source": [
    "user_input = int(input())\n",
    "\n",
    "coins = list(map(int, input().split()))\n",
    "\n",
    "dp=[[0]*user_input for i in range(user_input)]\n",
    "\n",
    "# 해당 코인만 선택하는 경우\n",
    "for index, coin in enumerate(coins):\n",
    "\tdp[index][0] = coin\n",
    "    \n",
    "# 뒤에서부터 가능한 경우의 수를 dp로 계산\n",
    "maxlen=2 # 선택가능한 최대 개수 (점점 1씩 증가)\n",
    "max_res=0\n",
    "for index in range(len(coins)-2,-1,-1): # 뒤에서 2번째부터 시작\n",
    "\tfor length in range(1,maxlen):\n",
    "\t\tdp[index][length]=dp[index+1][length-1]+dp[index][0]\n",
    "\t\tmax_res=max(dp[index][length], max_res)\n",
    "\tmaxlen+=1\n",
    "\n",
    "print(max_res)"
   ]
  }
 ],
 "metadata": {
  "kernelspec": {
   "display_name": "Python 3",
   "language": "python",
   "name": "python3"
  },
  "language_info": {
   "codemirror_mode": {
    "name": "ipython",
    "version": 3
   },
   "file_extension": ".py",
   "mimetype": "text/x-python",
   "name": "python",
   "nbconvert_exporter": "python",
   "pygments_lexer": "ipython3",
   "version": "3.6.7"
  }
 },
 "nbformat": 4,
 "nbformat_minor": 4
}
